{
 "cells": [
  {
   "cell_type": "code",
   "execution_count": 2,
   "metadata": {
    "id": "T-Bz6bwVWLr5"
   },
   "outputs": [],
   "source": [
    "#from google.colab import drive\n",
    "#drive.mount(\"/content/drive\")\n",
    "%cd \"drive/MyDrive/COMP2211\"\n",
    "%ls\n",
    "import numpy as np\n",
    "# delimiter: The string used to separate values. As ',' is used as delimiter in csv, we specify delimiter as ','\n",
    "# skiprows: Skip the first skiprows lines; default: 0. As we want to skip the header row, we specify skiprows as 1 \n",
    "train = np.loadtxt(\"heart2_train.csv\", delimiter=',', skiprows=1)\n",
    "test = np.loadtxt(\"heart2_test.csv\", delimiter=',', skiprows=1)\n"
   ]
  },
  {
   "cell_type": "code",
   "execution_count": 3,
   "metadata": {
    "id": "EB89ZFZJRW8k"
   },
   "outputs": [],
   "source": [
    "# The given code below calculates the Prior Probabilities of Heart Disease.\n",
    "# Modify the code to also calculate the Likelihoods for all the remaining features.\n",
    "train_labels = train[:, -1]                # Only the last column\n",
    "num_heart_disease_yes=sum(train_labels==1) # Use elementwise checking and sum to find number of matching elements\n",
    "num_heart_disease_no=sum(train_labels==0)  # Use elementwise checking and sum to find number of matching elements\n",
    "\n",
    "# Get the Prior Probability P(label)\n",
    "heart_disease_yes = num_heart_disease_yes/train.shape[0] # P(heart_disease = yes)\n",
    "heart_disease_no = num_heart_disease_no/train.shape[0]   # P(heart_disease = no)"
   ]
  },
  {
   "cell_type": "code",
   "execution_count": 4,
   "metadata": {},
   "outputs": [
    {
     "data": {
      "text/plain": [
       "(925, 8)"
      ]
     },
     "execution_count": 4,
     "metadata": {},
     "output_type": "execute_result"
    }
   ],
   "source": [
    "train.shape"
   ]
  },
  {
   "cell_type": "code",
   "execution_count": 5,
   "metadata": {},
   "outputs": [],
   "source": [
    "feature_labels_yes = train[:,:-1][train[:,-1] ==1].transpose((1,0))\n",
    "feature_labels_no = train[:,:-1][train[:,-1] ==0].transpose((1,0))"
   ]
  },
  {
   "cell_type": "code",
   "execution_count": 11,
   "metadata": {},
   "outputs": [
    {
     "data": {
      "text/plain": [
       "(7, 472)"
      ]
     },
     "execution_count": 11,
     "metadata": {},
     "output_type": "execute_result"
    }
   ],
   "source": [
    "feature_labels_yes.shape"
   ]
  },
  {
   "cell_type": "code",
   "execution_count": 30,
   "metadata": {},
   "outputs": [],
   "source": [
    "k = int(np.max(feature_labels_yes))\n",
    "num_feature_labels_yes = np.zeros((feature_labels_yes.shape[0],k+1))\n",
    "num_feature_labels_no = np.zeros((feature_labels_yes.shape[0],k+1))"
   ]
  },
  {
   "cell_type": "code",
   "execution_count": 31,
   "metadata": {},
   "outputs": [
    {
     "data": {
      "text/plain": [
       "3"
      ]
     },
     "execution_count": 31,
     "metadata": {},
     "output_type": "execute_result"
    }
   ],
   "source": [
    "k"
   ]
  },
  {
   "cell_type": "code",
   "execution_count": 32,
   "metadata": {},
   "outputs": [
    {
     "data": {
      "text/plain": [
       "array([[0., 0., 0., 0.],\n",
       "       [0., 0., 0., 0.],\n",
       "       [0., 0., 0., 0.],\n",
       "       [0., 0., 0., 0.],\n",
       "       [0., 0., 0., 0.],\n",
       "       [0., 0., 0., 0.],\n",
       "       [0., 0., 0., 0.]])"
      ]
     },
     "execution_count": 32,
     "metadata": {},
     "output_type": "execute_result"
    }
   ],
   "source": [
    "num_feature_labels_yes"
   ]
  },
  {
   "cell_type": "code",
   "execution_count": 47,
   "metadata": {},
   "outputs": [
    {
     "data": {
      "text/plain": [
       "array([[0., 0., 0., ..., 1., 1., 1.],\n",
       "       [0., 0., 1., ..., 2., 1., 0.],\n",
       "       [0., 0., 0., ..., 0., 0., 0.],\n",
       "       ...,\n",
       "       [0., 0., 0., ..., 0., 0., 0.],\n",
       "       [1., 1., 2., ..., 2., 2., 2.],\n",
       "       [2., 2., 2., ..., 2., 3., 2.]])"
      ]
     },
     "execution_count": 47,
     "metadata": {},
     "output_type": "execute_result"
    }
   ],
   "source": [
    "feature_labels_yes"
   ]
  },
  {
   "cell_type": "code",
   "execution_count": 44,
   "metadata": {},
   "outputs": [],
   "source": [
    "num_feature_labels_yes = [[(row == i).sum() for i in range(k + 1)] for row in feature_labels_yes]\n",
    "num_feature_labels_no = [[(row == i).sum() for i in range(k + 1)] for row in feature_labels_no]"
   ]
  },
  {
   "cell_type": "code",
   "execution_count": 45,
   "metadata": {
    "scrolled": true
   },
   "outputs": [
    {
     "data": {
      "text/plain": [
       "[[203, 269, 0, 0],\n",
       " [104, 124, 198, 46],\n",
       " [411, 61, 0, 0],\n",
       " [197, 273, 2, 0],\n",
       " [406, 66, 0, 0],\n",
       " [26, 140, 306, 0],\n",
       " [3, 19, 375, 75]]"
      ]
     },
     "execution_count": 45,
     "metadata": {},
     "output_type": "execute_result"
    }
   ],
   "source": [
    "num_feature_labels_yes"
   ]
  },
  {
   "cell_type": "code",
   "execution_count": 61,
   "metadata": {},
   "outputs": [
    {
     "data": {
      "text/plain": [
       "[[78, 375, 0, 0],\n",
       " [336, 31, 62, 24],\n",
       " [377, 76, 0, 0],\n",
       " [262, 182, 9, 0],\n",
       " [206, 247, 0, 0],\n",
       " [42, 291, 120, 0],\n",
       " [4, 40, 122, 287]]"
      ]
     },
     "execution_count": 61,
     "metadata": {},
     "output_type": "execute_result"
    }
   ],
   "source": [
    "num_feature_labels_no"
   ]
  },
  {
   "cell_type": "code",
   "execution_count": 62,
   "metadata": {},
   "outputs": [
    {
     "name": "stdout",
     "output_type": "stream",
     "text": [
      "472\n",
      "453\n"
     ]
    }
   ],
   "source": [
    "total = np.sum(num_feature_labels_yes,axis = 1)[0]\n",
    "total_2 = np.sum(num_feature_labels_no,axis = 1)[0]\n",
    "print(total)\n",
    "print(total_2)"
   ]
  },
  {
   "cell_type": "code",
   "execution_count": 88,
   "metadata": {},
   "outputs": [
    {
     "name": "stdout",
     "output_type": "stream",
     "text": [
      "[[0.4300847457627119, 0.5699152542372882, 1, 1], [0.22033898305084745, 0.2627118644067797, 0.4194915254237288, 0.09745762711864407], [0.8707627118644068, 0.1292372881355932, 1, 1], [0.4173728813559322, 0.5783898305084746, 0.00423728813559322, 1], [0.8601694915254238, 0.13983050847457626, 1, 1], [0.05508474576271186, 0.2966101694915254, 0.6483050847457628, 1], [0.006355932203389831, 0.04025423728813559, 0.7944915254237288, 0.15889830508474576]]\n",
      "[[0.17218543046357615, 0.8278145695364238, 1, 1], [0.7417218543046358, 0.0684326710816777, 0.1368653421633554, 0.052980132450331126], [0.8322295805739515, 0.16777041942604856, 1, 1], [0.5783664459161147, 0.40176600441501104, 0.019867549668874173, 1], [0.45474613686534215, 0.5452538631346578, 1, 1], [0.09271523178807947, 0.6423841059602649, 0.26490066225165565, 1], [0.008830022075055188, 0.08830022075055188, 0.2693156732891832, 0.6335540838852097]]\n"
     ]
    }
   ],
   "source": [
    "prob = [[(1) if i == 0 else (i) for i in row ] for row in num_feature_labels_yes/total]\n",
    "prob_2 = [[(1) if i == 0 else (i) for i in row ] for row in num_feature_labels_no/total_2]\n",
    "print(prob)\n",
    "print(prob_2)"
   ]
  },
  {
   "cell_type": "code",
   "execution_count": 90,
   "metadata": {},
   "outputs": [],
   "source": [
    "log_prob = np.log(prob)\n",
    "log_prob_2 = np.log(prob_2)"
   ]
  },
  {
   "cell_type": "code",
   "execution_count": 91,
   "metadata": {
    "id": "ofZbrLzQYDol"
   },
   "outputs": [],
   "source": [
    "def predict(row):\n",
    "    count_yes = log_heart_disease_yes\n",
    "    count_no = log_heart_disease_no\n",
    "    i = 0\n",
    "    for j in row:\n",
    "        j = int(j)\n",
    "        count_yes = count_yes + log_prob[i][j]\n",
    "        count_no = count_no + log_prob_2[i][j]\n",
    "        i = i + 1\n",
    "#TODO:\n",
    "    \n",
    "    prediction = (count_yes > count_no)\n",
    "    # Return the prediction value\n",
    "    return [prediction, count_yes]"
   ]
  },
  {
   "cell_type": "code",
   "execution_count": 92,
   "metadata": {
    "id": "aOcgPtE8NSKN"
   },
   "outputs": [],
   "source": [
    "# The given code below sums the log-prior-probability of Heart Disease.\n",
    "# Finish the above function to also sum the log-likelihoods for all the remaining features, \n",
    "# according to the specific test case. \n",
    "test_features = test[:, :-1]  # All except the last column.\n",
    "test_labels = test[:, -1]     # Only the last column.\n",
    "\n",
    "predict_labels = np.zeros_like(test_labels)       # Create a numpy array of zeros with the same shape as test_labels. \n",
    "\n",
    "log_heart_disease_yes = np.log(heart_disease_yes) # log_e of P(heart_disease = yes)\n",
    "log_heart_disease_no = np.log(heart_disease_no)   # log_e of P(heart_disease = no)"
   ]
  },
  {
   "cell_type": "code",
   "execution_count": 97,
   "metadata": {},
   "outputs": [
    {
     "data": {
      "text/plain": [
       "array([[1., 0., 0., 1., 1., 1., 3.],\n",
       "       [1., 0., 0., 0., 1., 1., 2.],\n",
       "       [1., 2., 1., 1., 0., 0., 3.],\n",
       "       [1., 0., 0., 0., 1., 1., 3.],\n",
       "       [1., 0., 0., 0., 1., 1., 3.],\n",
       "       [1., 0., 0., 0., 0., 1., 3.],\n",
       "       [1., 0., 0., 1., 0., 2., 3.],\n",
       "       [0., 2., 0., 0., 0., 2., 2.],\n",
       "       [1., 3., 0., 1., 1., 1., 3.],\n",
       "       [1., 2., 0., 1., 0., 2., 2.],\n",
       "       [1., 1., 0., 1., 0., 0., 2.],\n",
       "       [1., 2., 0., 1., 0., 2., 2.],\n",
       "       [1., 2., 0., 1., 0., 2., 2.],\n",
       "       [1., 0., 0., 0., 1., 2., 3.],\n",
       "       [0., 1., 0., 1., 0., 1., 2.],\n",
       "       [0., 0., 0., 1., 1., 1., 3.],\n",
       "       [0., 2., 0., 0., 0., 1., 2.],\n",
       "       [0., 3., 0., 1., 0., 2., 2.],\n",
       "       [1., 0., 0., 1., 0., 2., 3.],\n",
       "       [0., 0., 1., 1., 1., 1., 3.],\n",
       "       [1., 3., 0., 0., 0., 1., 3.],\n",
       "       [0., 2., 0., 1., 0., 2., 2.],\n",
       "       [0., 2., 0., 1., 0., 2., 2.],\n",
       "       [1., 0., 0., 1., 1., 0., 3.],\n",
       "       [1., 0., 0., 1., 1., 2., 3.],\n",
       "       [1., 0., 0., 0., 1., 1., 2.],\n",
       "       [0., 2., 0., 1., 0., 1., 3.],\n",
       "       [0., 2., 1., 1., 0., 2., 2.],\n",
       "       [0., 0., 0., 0., 1., 1., 2.],\n",
       "       [0., 0., 0., 0., 0., 1., 2.],\n",
       "       [1., 2., 0., 1., 0., 1., 3.],\n",
       "       [0., 0., 0., 1., 0., 2., 2.],\n",
       "       [1., 2., 0., 1., 0., 1., 3.],\n",
       "       [0., 2., 1., 0., 0., 2., 2.],\n",
       "       [0., 3., 0., 1., 0., 2., 2.],\n",
       "       [0., 2., 0., 0., 0., 1., 2.],\n",
       "       [0., 0., 0., 0., 0., 1., 2.],\n",
       "       [1., 0., 1., 1., 0., 2., 3.],\n",
       "       [0., 0., 0., 1., 1., 1., 3.],\n",
       "       [0., 2., 0., 1., 0., 1., 2.],\n",
       "       [0., 2., 0., 2., 0., 1., 2.],\n",
       "       [1., 0., 0., 0., 1., 1., 3.],\n",
       "       [0., 2., 1., 1., 0., 2., 2.],\n",
       "       [1., 0., 1., 0., 1., 0., 3.],\n",
       "       [1., 1., 0., 1., 0., 2., 2.],\n",
       "       [1., 2., 0., 1., 0., 2., 2.],\n",
       "       [1., 2., 1., 1., 0., 2., 3.],\n",
       "       [1., 3., 0., 0., 0., 1., 1.],\n",
       "       [1., 2., 1., 0., 0., 1., 2.],\n",
       "       [1., 0., 0., 1., 0., 2., 3.],\n",
       "       [1., 0., 0., 1., 0., 1., 3.],\n",
       "       [0., 0., 0., 1., 1., 1., 2.],\n",
       "       [1., 1., 1., 1., 0., 2., 2.],\n",
       "       [1., 0., 0., 0., 0., 2., 2.],\n",
       "       [1., 0., 0., 0., 1., 1., 3.],\n",
       "       [1., 0., 0., 1., 0., 1., 1.],\n",
       "       [1., 0., 0., 1., 0., 1., 3.],\n",
       "       [0., 0., 0., 1., 0., 2., 2.],\n",
       "       [1., 0., 0., 1., 1., 1., 3.],\n",
       "       [1., 0., 0., 1., 0., 1., 3.],\n",
       "       [1., 2., 0., 1., 0., 1., 3.],\n",
       "       [0., 0., 0., 2., 1., 1., 2.],\n",
       "       [1., 1., 0., 0., 0., 2., 2.],\n",
       "       [1., 0., 0., 0., 0., 1., 3.],\n",
       "       [0., 1., 0., 1., 0., 2., 2.],\n",
       "       [1., 1., 0., 1., 0., 2., 2.],\n",
       "       [1., 0., 1., 1., 1., 2., 3.],\n",
       "       [0., 0., 0., 0., 0., 2., 2.],\n",
       "       [1., 0., 1., 0., 1., 1., 3.],\n",
       "       [1., 0., 0., 0., 1., 1., 3.],\n",
       "       [1., 1., 0., 1., 0., 2., 3.],\n",
       "       [0., 0., 0., 0., 1., 1., 3.],\n",
       "       [1., 0., 0., 1., 0., 1., 3.],\n",
       "       [1., 0., 0., 1., 1., 1., 1.],\n",
       "       [1., 0., 1., 1., 0., 1., 3.],\n",
       "       [1., 0., 0., 0., 0., 1., 1.],\n",
       "       [1., 0., 0., 1., 0., 2., 2.],\n",
       "       [1., 0., 0., 0., 1., 2., 2.],\n",
       "       [1., 0., 1., 1., 0., 2., 3.],\n",
       "       [0., 2., 0., 0., 0., 2., 2.],\n",
       "       [0., 0., 0., 2., 1., 1., 3.],\n",
       "       [1., 2., 1., 0., 0., 2., 2.],\n",
       "       [1., 3., 0., 0., 0., 1., 3.],\n",
       "       [1., 1., 0., 1., 0., 2., 2.],\n",
       "       [1., 0., 0., 1., 0., 2., 3.],\n",
       "       [1., 0., 0., 1., 1., 2., 3.],\n",
       "       [1., 1., 0., 0., 0., 2., 2.],\n",
       "       [1., 1., 0., 1., 0., 0., 3.],\n",
       "       [1., 0., 0., 2., 0., 0., 1.],\n",
       "       [0., 2., 0., 1., 0., 1., 2.],\n",
       "       [1., 0., 0., 0., 1., 1., 3.],\n",
       "       [1., 3., 1., 0., 0., 1., 2.],\n",
       "       [1., 0., 0., 1., 1., 1., 3.],\n",
       "       [1., 0., 0., 0., 0., 2., 3.],\n",
       "       [1., 0., 0., 1., 0., 2., 2.],\n",
       "       [1., 1., 0., 1., 1., 2., 2.],\n",
       "       [1., 0., 0., 0., 1., 1., 3.],\n",
       "       [1., 0., 0., 0., 1., 1., 2.],\n",
       "       [0., 0., 0., 0., 0., 2., 2.],\n",
       "       [1., 0., 0., 1., 0., 1., 3.]])"
      ]
     },
     "execution_count": 97,
     "metadata": {},
     "output_type": "execute_result"
    }
   ],
   "source": [
    "test_features"
   ]
  },
  {
   "cell_type": "code",
   "execution_count": 96,
   "metadata": {},
   "outputs": [
    {
     "data": {
      "text/plain": [
       "(100, 7)"
      ]
     },
     "execution_count": 96,
     "metadata": {},
     "output_type": "execute_result"
    }
   ],
   "source": [
    "test_features.shape"
   ]
  },
  {
   "cell_type": "code",
   "execution_count": 93,
   "metadata": {},
   "outputs": [],
   "source": [
    "for row in range(test_features.shape[0]):\n",
    "    prediction=predict(test_features[row])\n",
    "    predict_labels[row] = prediction[0]"
   ]
  },
  {
   "cell_type": "code",
   "execution_count": 94,
   "metadata": {
    "id": "mSGpDAUgApOu"
   },
   "outputs": [
    {
     "name": "stdout",
     "output_type": "stream",
     "text": [
      "0.78\n"
     ]
    }
   ],
   "source": [
    "num_match = 0\n",
    "for i in range(predict_labels.shape[0]):\n",
    "    if predict_labels[i] == test_labels[i]:\n",
    "       num_match += 1\n",
    "\n",
    "accuracy_score = num_match/predict_labels.shape[0]\n",
    "\n",
    "print(accuracy_score)\n"
   ]
  },
  {
   "cell_type": "code",
   "execution_count": 16,
   "metadata": {
    "id": "Fqs0oFzQVYsZ"
   },
   "outputs": [
    {
     "ename": "NameError",
     "evalue": "name 'drive' is not defined",
     "output_type": "error",
     "traceback": [
      "\u001b[1;31m---------------------------------------------------------------------------\u001b[0m",
      "\u001b[1;31mNameError\u001b[0m                                 Traceback (most recent call last)",
      "Input \u001b[1;32mIn [16]\u001b[0m, in \u001b[0;36m<cell line: 1>\u001b[1;34m()\u001b[0m\n\u001b[1;32m----> 1\u001b[0m \u001b[43mdrive\u001b[49m\u001b[38;5;241m.\u001b[39mflush_and_unmount()\n",
      "\u001b[1;31mNameError\u001b[0m: name 'drive' is not defined"
     ]
    }
   ],
   "source": [
    "drive.flush_and_unmount()"
   ]
  },
  {
   "cell_type": "code",
   "execution_count": null,
   "metadata": {},
   "outputs": [],
   "source": []
  }
 ],
 "metadata": {
  "colab": {
   "collapsed_sections": [],
   "provenance": []
  },
  "kernelspec": {
   "display_name": "Python 3 (ipykernel)",
   "language": "python",
   "name": "python3"
  },
  "language_info": {
   "codemirror_mode": {
    "name": "ipython",
    "version": 3
   },
   "file_extension": ".py",
   "mimetype": "text/x-python",
   "name": "python",
   "nbconvert_exporter": "python",
   "pygments_lexer": "ipython3",
   "version": "3.9.12"
  }
 },
 "nbformat": 4,
 "nbformat_minor": 1
}
